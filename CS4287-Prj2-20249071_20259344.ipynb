{
 "cells": [
  {
   "cell_type": "markdown",
   "id": "f3959609-bb33-4b2f-b672-6b8999466bdd",
   "metadata": {},
   "source": [
    "# Assignment 3\n",
    "\n",
    "20249071: Rajat Maindoliya\n",
    "\n",
    "20259344: Imelda Butler\n",
    "\n",
    "Does code execute to end? Y"
   ]
  },
  {
   "cell_type": "code",
   "execution_count": 50,
   "id": "6e6f7f09-5297-4f3e-be70-7501ddf94d37",
   "metadata": {},
   "outputs": [
    {
     "name": "stdout",
     "output_type": "stream",
     "text": [
      "Requirement already satisfied: gym in c:\\users\\imelda\\documents\\github\\cs4287_assignment3\\nnvenv\\lib\\site-packages (0.26.2)\n",
      "Requirement already satisfied: numpy>=1.18.0 in c:\\users\\imelda\\documents\\github\\cs4287_assignment3\\nnvenv\\lib\\site-packages (from gym) (1.26.2)\n",
      "Requirement already satisfied: cloudpickle>=1.2.0 in c:\\users\\imelda\\documents\\github\\cs4287_assignment3\\nnvenv\\lib\\site-packages (from gym) (3.0.0)\n",
      "Requirement already satisfied: gym-notices>=0.0.4 in c:\\users\\imelda\\documents\\github\\cs4287_assignment3\\nnvenv\\lib\\site-packages (from gym) (0.0.8)\n",
      "Requirement already satisfied: importlib-metadata>=4.8.0 in c:\\users\\imelda\\documents\\github\\cs4287_assignment3\\nnvenv\\lib\\site-packages (from gym) (7.0.0)\n",
      "Requirement already satisfied: zipp>=0.5 in c:\\users\\imelda\\documents\\github\\cs4287_assignment3\\nnvenv\\lib\\site-packages (from importlib-metadata>=4.8.0->gym) (3.17.0)\n",
      "Note: you may need to restart the kernel to use updated packages.\n"
     ]
    }
   ],
   "source": [
    "%pip install gym    \n",
    "\n",
    "import warnings\n",
    "warnings.simplefilter(action = 'ignore')\n",
    "import gym\n",
    "import random\n",
    "from IPython.display import clear_output "
   ]
  },
  {
   "cell_type": "code",
   "execution_count": 51,
   "id": "8a791543-07e3-4ed6-b881-4288ef500d03",
   "metadata": {},
   "outputs": [
    {
     "data": {
      "text/plain": [
       "(array([-0.5810655,  0.       ], dtype=float32), {})"
      ]
     },
     "execution_count": 51,
     "metadata": {},
     "output_type": "execute_result"
    }
   ],
   "source": [
    "# Create an instance of the Mountain Car environment\n",
    "env = gym.make('MountainCar-v0')\n",
    "\n",
    "\n",
    "# Reset the environment and get the initial observation\n",
    "env.reset()"
   ]
  },
  {
   "cell_type": "code",
   "execution_count": 52,
   "id": "d7522d16-e6b7-4b82-be63-de5f63b38368",
   "metadata": {},
   "outputs": [
    {
     "name": "stdout",
     "output_type": "stream",
     "text": [
      "State space: Box([-1.2  -0.07], [0.6  0.07], (2,), float32)\n",
      "Action space: Discrete(3)\n"
     ]
    }
   ],
   "source": [
    "# Print the state space and action space of the environment\n",
    "\n",
    "print('State space:', env.observation_space)\n",
    "print('Action space:', env.action_space)"
   ]
  },
  {
   "cell_type": "code",
   "execution_count": 53,
   "id": "0b1941b2-e472-4421-8840-29216f7ec36b",
   "metadata": {},
   "outputs": [
    {
     "name": "stdout",
     "output_type": "stream",
     "text": [
      "[-1.2  -0.07]\n",
      "[0.6  0.07]\n"
     ]
    }
   ],
   "source": [
    "# Print the minimum possible values for each variable in the state space\n",
    "print(env.observation_space.low)\n",
    "\n",
    "# Print the maximum possible values for each variable in the state space\n",
    "print(env.observation_space.high)"
   ]
  },
  {
   "cell_type": "code",
   "execution_count": 54,
   "id": "adef14ff-d104-45e5-a379-92a920e38cb0",
   "metadata": {},
   "outputs": [
    {
     "data": {
      "text/html": [
       "<table><tr><th style='background-color: red; color: white; font-weight: bold; font-size: 18px; padding: 8px; border: 1px solid black;'>State Variable</th><th style='background-color: red; color: white; font-weight: bold; font-size: 18px; padding: 8px; border: 1px solid black;'>Quantity</th><th style='background-color: red; color: white; font-weight: bold; font-size: 18px; padding: 8px; border: 1px solid black;'>Min</th><th style='background-color: red; color: white; font-weight: bold; font-size: 18px; padding: 8px; border: 1px solid black;'>Max</th></tr><tr><td style='text-align: center; border: 1px solid black; padding: 8px;'>0</td><td style='text-align: center; border: 1px solid black; padding: 8px;'>Car position</td><td style='text-align: center; border: 1px solid black; padding: 8px;'>-1.2</td><td style='text-align: center; border: 1px solid black; padding: 8px;'>0.6</td></tr><tr><td style='text-align: center; border: 1px solid black; padding: 8px;'>1</td><td style='text-align: center; border: 1px solid black; padding: 8px;'>Car velocity</td><td style='text-align: center; border: 1px solid black; padding: 8px;'>-0.07</td><td style='text-align: center; border: 1px solid black; padding: 8px;'>0.07</td></tr></table>"
      ],
      "text/plain": [
       "<IPython.core.display.HTML object>"
      ]
     },
     "execution_count": 54,
     "metadata": {},
     "output_type": "execute_result"
    }
   ],
   "source": [
    "from IPython.display import HTML\n",
    "\n",
    "# Define the table data\n",
    "data = [\n",
    "    ('State Variable', 'Quantity', 'Min', 'Max'),\n",
    "    ('0', 'Car position', '-1.2', '0.6'),\n",
    "    ('1', 'Car velocity', '-0.07', '0.07')\n",
    "]\n",
    "\n",
    "# Create the HTML table\n",
    "html = \"<table>\"\n",
    "html += \"<tr>\"\n",
    "for header in data[0]:\n",
    "    html += f\"<th style='background-color: red; color: white; font-weight: bold; font-size: 18px; padding: 8px; border: 1px solid black;'>{header}</th>\"\n",
    "html += \"</tr>\"\n",
    "for row in data[1:]:\n",
    "    html += \"<tr>\"\n",
    "    for cell in row:\n",
    "        html += f\"<td style='text-align: center; border: 1px solid black; padding: 8px;'>{cell}</td>\"\n",
    "    html += \"</tr>\"\n",
    "html += \"</table>\"\n",
    "\n",
    "# Display the table using HTML\n",
    "HTML(html)"
   ]
  },
  {
   "cell_type": "code",
   "execution_count": 55,
   "id": "f2045c93-2bbd-4136-b22f-0a113148bf3e",
   "metadata": {},
   "outputs": [
    {
     "name": "stdout",
     "output_type": "stream",
     "text": [
      "(array([-0.45512876,  0.        ], dtype=float32), {})\n"
     ]
    }
   ],
   "source": [
    "#prints the initial state of an environment using the reset() function.\n",
    "\n",
    "print(env.reset())"
   ]
  },
  {
   "cell_type": "code",
   "execution_count": 56,
   "id": "2ae4cb23-92ad-4d84-96cd-8ef86aba1e37",
   "metadata": {},
   "outputs": [
    {
     "name": "stdout",
     "output_type": "stream",
     "text": [
      "(array([-0.4546387 ,  0.00049008], dtype=float32), -1.0, False, False, {})\n"
     ]
    }
   ],
   "source": [
    "# Take an action in the environment and observe the results\n",
    "print(env.step(2))"
   ]
  },
  {
   "cell_type": "code",
   "execution_count": 64,
   "id": "c04f20d9-08ad-48cc-a016-02f83e57cd8d",
   "metadata": {},
   "outputs": [],
   "source": [
    "# Import necessary libraries: NumPy, Gym, and Matplotlib.\n",
    "\n",
    "import numpy as np\n",
    "import gym\n",
    "import matplotlib.pyplot as plt\n",
    "\n",
    "# Import and initialize Mountain Car Environment\n",
    "env = gym.make('MountainCar-v0')\n",
    "env.reset()\n",
    "\n",
    "# Define Q-learning function\n",
    "def QLearning(env, learning, discount, epsilon, min_eps, episodes):\n",
    "    # Determine size of discretized state space\n",
    "    num_states = (env.observation_space.high - env.observation_space.low)*\\\n",
    "                    np.array([10, 100])\n",
    "    num_states = np.round(num_states, 0).astype(int) + 1\n",
    "    \n",
    "    # Initialize Q table\n",
    "    Q = np.random.uniform(low = -1, high = 1, \n",
    "                        size = (num_states[0], num_states[1], \n",
    "                                env.action_space.n))\n",
    "    \n",
    "    # Initialize variables to track rewards\n",
    "    reward_list = []\n",
    "    ave_reward_list = []\n",
    "    \n",
    "    # Calculate episodic reduction in epsilon\n",
    "    reduction = (epsilon - min_eps)/episodes\n",
    "    \n",
    "    # Run Q learning algorithm\n",
    "    for i in range(episodes):\n",
    "        # Initialize parameters\n",
    "        done = False\n",
    "        tot_reward, reward = 0,0\n",
    "        state = env.reset()\n",
    "        \n",
    "        # Discretize state\n",
    "        state_adj = (state - env.observation_space.low) * np.array([10, 100])\n",
    "        state_adj = np.round(state_adj).astype(int)\n",
    "    \n",
    "        while done != True:   \n",
    "            # Render environment for last five episodes\n",
    "            if i >= (episodes - 20):\n",
    "                env.render()\n",
    "                \n",
    "            # Determine next action - epsilon greedy strategy\n",
    "            if np.random.random() < 1 - epsilon:\n",
    "                action = np.argmax(Q[state_adj[0], state_adj[1]]) \n",
    "            else:\n",
    "                action = np.random.randint(0, env.action_space.n)\n",
    "                \n",
    "            # Get next state and reward\n",
    "            state2, reward, done, info = env.step(action) \n",
    "            \n",
    "            # Discretize state2\n",
    "            state2_adj = (state2 - env.observation_space.low)*np.array([10, 100])\n",
    "            state2_adj = np.round(state2_adj, 0).astype(int)\n",
    "            \n",
    "            #Allow for terminal states\n",
    "            if done and state2[0] >= 0.5:\n",
    "                Q[state_adj[0], state_adj[1], action] = reward\n",
    "                \n",
    "            # Adjust Q value for current state\n",
    "            else:\n",
    "                delta = learning*(reward + \n",
    "                                discount*np.max(Q[state2_adj[0], \n",
    "                                                state2_adj[1]]) - \n",
    "                                Q[state_adj[0], state_adj[1],action])\n",
    "                Q[state_adj[0], state_adj[1],action] += delta\n",
    "\n",
    "            # Update variables\n",
    "            tot_reward += reward\n",
    "            state_adj = state2_adj\n",
    "        \n",
    "        # Decay epsilon\n",
    "        if epsilon > min_eps:\n",
    "            epsilon -= reduction\n",
    "        \n",
    "        # Track rewards\n",
    "        reward_list.append(tot_reward)\n",
    "        \n",
    "        if (i+1) % 100 == 0:\n",
    "            ave_reward = np.mean(reward_list)\n",
    "            ave_reward_list.append(ave_reward)\n",
    "            reward_list = []\n",
    "            \n",
    "    #Finally, the function returns the list of average rewards per episode.\n",
    "    \n",
    "    return ave_reward_list"
   ]
  },
  {
   "cell_type": "code",
   "execution_count": 66,
   "id": "3d2600bf-eb87-4b49-8c12-7f7a0cd8a8cf",
   "metadata": {},
   "outputs": [
    {
     "name": "stdout",
     "output_type": "stream",
     "text": [
      "tensor([2.2000, 2.0700])\n",
      "torch.Size([2])\n",
      "(2,)\n"
     ]
    },
    {
     "ename": "ValueError",
     "evalue": "setting an array element with a sequence. The requested array has an inhomogeneous shape after 1 dimensions. The detected shape was (2,) + inhomogeneous part.",
     "output_type": "error",
     "traceback": [
      "\u001b[1;31m---------------------------------------------------------------------------\u001b[0m",
      "\u001b[1;31mValueError\u001b[0m                                Traceback (most recent call last)",
      "\u001b[1;32mc:\\Users\\Imelda\\Documents\\GitHub\\cs4287_assignment3\\CS4287-Prj2-20249071_20259344.ipynb Cell 10\u001b[0m line \u001b[0;36m1\n\u001b[0;32m     <a href='vscode-notebook-cell:/c%3A/Users/Imelda/Documents/GitHub/cs4287_assignment3/CS4287-Prj2-20249071_20259344.ipynb#X44sZmlsZQ%3D%3D?line=9'>10</a>\u001b[0m \u001b[39mprint\u001b[39m(state\u001b[39m.\u001b[39mshape)\n\u001b[0;32m     <a href='vscode-notebook-cell:/c%3A/Users/Imelda/Documents/GitHub/cs4287_assignment3/CS4287-Prj2-20249071_20259344.ipynb#X44sZmlsZQ%3D%3D?line=10'>11</a>\u001b[0m \u001b[39mprint\u001b[39m(env\u001b[39m.\u001b[39mobservation_space\u001b[39m.\u001b[39mlow\u001b[39m.\u001b[39mshape)\n\u001b[1;32m---> <a href='vscode-notebook-cell:/c%3A/Users/Imelda/Documents/GitHub/cs4287_assignment3/CS4287-Prj2-20249071_20259344.ipynb#X44sZmlsZQ%3D%3D?line=11'>12</a>\u001b[0m rewards \u001b[39m=\u001b[39m QLearning(env, \u001b[39m0.2\u001b[39;49m, \u001b[39m0.9\u001b[39;49m, \u001b[39m0.8\u001b[39;49m, \u001b[39m0\u001b[39;49m, \u001b[39m1000\u001b[39;49m)\n\u001b[0;32m     <a href='vscode-notebook-cell:/c%3A/Users/Imelda/Documents/GitHub/cs4287_assignment3/CS4287-Prj2-20249071_20259344.ipynb#X44sZmlsZQ%3D%3D?line=12'>13</a>\u001b[0m plt\u001b[39m.\u001b[39mplot(\u001b[39m100\u001b[39m\u001b[39m*\u001b[39m(np\u001b[39m.\u001b[39marange(\u001b[39mlen\u001b[39m(rewards)) \u001b[39m+\u001b[39m \u001b[39m1\u001b[39m), rewards)\n\u001b[0;32m     <a href='vscode-notebook-cell:/c%3A/Users/Imelda/Documents/GitHub/cs4287_assignment3/CS4287-Prj2-20249071_20259344.ipynb#X44sZmlsZQ%3D%3D?line=13'>14</a>\u001b[0m plt\u001b[39m.\u001b[39mxlabel(\u001b[39m'\u001b[39m\u001b[39mEpisodes\u001b[39m\u001b[39m'\u001b[39m)\n",
      "\u001b[1;32mc:\\Users\\Imelda\\Documents\\GitHub\\cs4287_assignment3\\CS4287-Prj2-20249071_20259344.ipynb Cell 10\u001b[0m line \u001b[0;36m3\n\u001b[0;32m     <a href='vscode-notebook-cell:/c%3A/Users/Imelda/Documents/GitHub/cs4287_assignment3/CS4287-Prj2-20249071_20259344.ipynb#X44sZmlsZQ%3D%3D?line=34'>35</a>\u001b[0m state \u001b[39m=\u001b[39m env\u001b[39m.\u001b[39mreset()\n\u001b[0;32m     <a href='vscode-notebook-cell:/c%3A/Users/Imelda/Documents/GitHub/cs4287_assignment3/CS4287-Prj2-20249071_20259344.ipynb#X44sZmlsZQ%3D%3D?line=36'>37</a>\u001b[0m \u001b[39m# Discretize state\u001b[39;00m\n\u001b[1;32m---> <a href='vscode-notebook-cell:/c%3A/Users/Imelda/Documents/GitHub/cs4287_assignment3/CS4287-Prj2-20249071_20259344.ipynb#X44sZmlsZQ%3D%3D?line=37'>38</a>\u001b[0m state_adj \u001b[39m=\u001b[39m (state \u001b[39m-\u001b[39;49m env\u001b[39m.\u001b[39;49mobservation_space\u001b[39m.\u001b[39;49mlow) \u001b[39m*\u001b[39m np\u001b[39m.\u001b[39marray([\u001b[39m10\u001b[39m, \u001b[39m100\u001b[39m])\n\u001b[0;32m     <a href='vscode-notebook-cell:/c%3A/Users/Imelda/Documents/GitHub/cs4287_assignment3/CS4287-Prj2-20249071_20259344.ipynb#X44sZmlsZQ%3D%3D?line=38'>39</a>\u001b[0m state_adj \u001b[39m=\u001b[39m np\u001b[39m.\u001b[39mround(state_adj)\u001b[39m.\u001b[39mastype(\u001b[39mint\u001b[39m)\n\u001b[0;32m     <a href='vscode-notebook-cell:/c%3A/Users/Imelda/Documents/GitHub/cs4287_assignment3/CS4287-Prj2-20249071_20259344.ipynb#X44sZmlsZQ%3D%3D?line=40'>41</a>\u001b[0m \u001b[39mwhile\u001b[39;00m done \u001b[39m!=\u001b[39m \u001b[39mTrue\u001b[39;00m:   \n\u001b[0;32m     <a href='vscode-notebook-cell:/c%3A/Users/Imelda/Documents/GitHub/cs4287_assignment3/CS4287-Prj2-20249071_20259344.ipynb#X44sZmlsZQ%3D%3D?line=41'>42</a>\u001b[0m     \u001b[39m# Render environment for last five episodes\u001b[39;00m\n",
      "\u001b[1;31mValueError\u001b[0m: setting an array element with a sequence. The requested array has an inhomogeneous shape after 1 dimensions. The detected shape was (2,) + inhomogeneous part."
     ]
    }
   ],
   "source": [
    "state = torch.tensor([1, 2])  # Example tensor shape (1, 2)\n",
    "env_low = env.observation_space.low\n",
    "env_low_reshaped = torch.tensor(env_low).reshape(state.shape)\n",
    "\n",
    "# Then, attempt the subtraction\n",
    "difference = state - env_low_reshaped\n",
    "print(difference)\n",
    "\n",
    "\n",
    "print(state.shape)\n",
    "print(state_adj.shape)\n",
    "print(env.observation_space.low.shape)\n",
    "rewards = QLearning(env, 0.2, 0.9, 0.8, 0, 1000)\n",
    "plt.plot(100*(np.arange(len(rewards)) + 1), rewards)\n",
    "plt.xlabel('Episodes')\n",
    "plt.ylabel('Average Reward')\n",
    "plt.title('Average Reward vs Episodes')"
   ]
  },
  {
   "cell_type": "code",
   "execution_count": 63,
   "id": "7e3e7f4d-0011-4fcd-b372-25359ef87c4f",
   "metadata": {},
   "outputs": [
    {
     "ename": "ValueError",
     "evalue": "setting an array element with a sequence. The requested array has an inhomogeneous shape after 1 dimensions. The detected shape was (2,) + inhomogeneous part.",
     "output_type": "error",
     "traceback": [
      "\u001b[1;31m---------------------------------------------------------------------------\u001b[0m",
      "\u001b[1;31mValueError\u001b[0m                                Traceback (most recent call last)",
      "\u001b[1;32mc:\\Users\\Imelda\\Documents\\GitHub\\cs4287_assignment3\\CS4287-Prj2-20249071_20259344.ipynb Cell 11\u001b[0m line \u001b[0;36m1\n\u001b[1;32m----> <a href='vscode-notebook-cell:/c%3A/Users/Imelda/Documents/GitHub/cs4287_assignment3/CS4287-Prj2-20249071_20259344.ipynb#X45sZmlsZQ%3D%3D?line=0'>1</a>\u001b[0m rewards \u001b[39m=\u001b[39m QLearning(env, \u001b[39m0.2\u001b[39;49m, \u001b[39m0.9\u001b[39;49m, \u001b[39m0.8\u001b[39;49m, \u001b[39m0\u001b[39;49m, \u001b[39m5000\u001b[39;49m)\n\u001b[0;32m      <a href='vscode-notebook-cell:/c%3A/Users/Imelda/Documents/GitHub/cs4287_assignment3/CS4287-Prj2-20249071_20259344.ipynb#X45sZmlsZQ%3D%3D?line=1'>2</a>\u001b[0m plt\u001b[39m.\u001b[39mplot(\u001b[39m100\u001b[39m\u001b[39m*\u001b[39m(np\u001b[39m.\u001b[39marange(\u001b[39mlen\u001b[39m(rewards)) \u001b[39m+\u001b[39m \u001b[39m1\u001b[39m), rewards)\n\u001b[0;32m      <a href='vscode-notebook-cell:/c%3A/Users/Imelda/Documents/GitHub/cs4287_assignment3/CS4287-Prj2-20249071_20259344.ipynb#X45sZmlsZQ%3D%3D?line=2'>3</a>\u001b[0m plt\u001b[39m.\u001b[39mxlabel(\u001b[39m'\u001b[39m\u001b[39mEpisodes\u001b[39m\u001b[39m'\u001b[39m)\n",
      "\u001b[1;32mc:\\Users\\Imelda\\Documents\\GitHub\\cs4287_assignment3\\CS4287-Prj2-20249071_20259344.ipynb Cell 11\u001b[0m line \u001b[0;36m3\n\u001b[0;32m     <a href='vscode-notebook-cell:/c%3A/Users/Imelda/Documents/GitHub/cs4287_assignment3/CS4287-Prj2-20249071_20259344.ipynb#X45sZmlsZQ%3D%3D?line=34'>35</a>\u001b[0m state \u001b[39m=\u001b[39m env\u001b[39m.\u001b[39mreset()\n\u001b[0;32m     <a href='vscode-notebook-cell:/c%3A/Users/Imelda/Documents/GitHub/cs4287_assignment3/CS4287-Prj2-20249071_20259344.ipynb#X45sZmlsZQ%3D%3D?line=36'>37</a>\u001b[0m \u001b[39m# Discretize state\u001b[39;00m\n\u001b[1;32m---> <a href='vscode-notebook-cell:/c%3A/Users/Imelda/Documents/GitHub/cs4287_assignment3/CS4287-Prj2-20249071_20259344.ipynb#X45sZmlsZQ%3D%3D?line=37'>38</a>\u001b[0m state_adj \u001b[39m=\u001b[39m (state \u001b[39m-\u001b[39;49m env\u001b[39m.\u001b[39;49mobservation_space\u001b[39m.\u001b[39;49mlow)\u001b[39m*\u001b[39mnp\u001b[39m.\u001b[39marray([\u001b[39m10\u001b[39m, \u001b[39m100\u001b[39m])\n\u001b[0;32m     <a href='vscode-notebook-cell:/c%3A/Users/Imelda/Documents/GitHub/cs4287_assignment3/CS4287-Prj2-20249071_20259344.ipynb#X45sZmlsZQ%3D%3D?line=38'>39</a>\u001b[0m state_adj \u001b[39m=\u001b[39m np\u001b[39m.\u001b[39mround(state_adj, \u001b[39m0\u001b[39m)\u001b[39m.\u001b[39mastype(\u001b[39mint\u001b[39m)\n\u001b[0;32m     <a href='vscode-notebook-cell:/c%3A/Users/Imelda/Documents/GitHub/cs4287_assignment3/CS4287-Prj2-20249071_20259344.ipynb#X45sZmlsZQ%3D%3D?line=40'>41</a>\u001b[0m \u001b[39mwhile\u001b[39;00m done \u001b[39m!=\u001b[39m \u001b[39mTrue\u001b[39;00m:   \n\u001b[0;32m     <a href='vscode-notebook-cell:/c%3A/Users/Imelda/Documents/GitHub/cs4287_assignment3/CS4287-Prj2-20249071_20259344.ipynb#X45sZmlsZQ%3D%3D?line=41'>42</a>\u001b[0m     \u001b[39m# Render environment for last five episodes\u001b[39;00m\n",
      "\u001b[1;31mValueError\u001b[0m: setting an array element with a sequence. The requested array has an inhomogeneous shape after 1 dimensions. The detected shape was (2,) + inhomogeneous part."
     ]
    }
   ],
   "source": [
    "rewards = QLearning(env, 0.2, 0.9, 0.8, 0, 5000)\n",
    "plt.plot(100*(np.arange(len(rewards)) + 1), rewards)\n",
    "plt.xlabel('Episodes')\n",
    "plt.ylabel('Average Reward')\n",
    "plt.title('Average Reward vs Episodes')"
   ]
  },
  {
   "cell_type": "code",
   "execution_count": null,
   "id": "4b417a0d-3863-49b2-acd7-a4a5a1f87667",
   "metadata": {},
   "outputs": [],
   "source": [
    "rewards = QLearning(env, 0.2, 0.9, 0.5, 0, 5000)\n",
    "plt.plot(100*(np.arange(len(rewards)) + 1), rewards)\n",
    "plt.xlabel('Episodes')\n",
    "plt.ylabel('Average Reward')\n",
    "plt.title('Average Reward vs Episodes')"
   ]
  },
  {
   "cell_type": "code",
   "execution_count": null,
   "id": "2d2bf404-d61d-49fb-975a-5fe5708f9559",
   "metadata": {},
   "outputs": [],
   "source": [
    "rewards = QLearning(env, 0.2, 0.5, 0.8, 0, 5000)\n",
    "plt.plot(100*(np.arange(len(rewards)) + 1), rewards)\n",
    "plt.xlabel('Episodes')\n",
    "plt.ylabel('Average Reward')\n",
    "plt.title('Average Reward vs Episodes')"
   ]
  },
  {
   "cell_type": "code",
   "execution_count": null,
   "id": "2cd339d8-af26-431b-a43c-f98396642eb2",
   "metadata": {},
   "outputs": [
    {
     "name": "stdout",
     "output_type": "stream",
     "text": [
      "Complete\n"
     ]
    },
    {
     "data": {
      "image/png": "[encoded data removed]",
      "text/plain": [
       "<Figure size 640x480 with 1 Axes>"
      ]
     },
     "metadata": {},
     "output_type": "display_data"
    },
    {
     "data": {
      "text/plain": [
       "<Figure size 640x480 with 0 Axes>"
      ]
     },
     "metadata": {},
     "output_type": "display_data"
    },
    {
     "data": {
      "text/plain": [
       "<Figure size 640x480 with 0 Axes>"
      ]
     },
     "metadata": {},
     "output_type": "display_data"
    }
   ],
   "source": [
    "rewards = QLearning(env, 0.2, 0.1, 0.8, 0, 5000)\n",
    "plt.plot(100*(np.arange(len(rewards)) + 1), rewards)\n",
    "plt.xlabel('Episodes')\n",
    "plt.ylabel('Average Reward')\n",
    "plt.title('Average Reward vs Episodes')"
   ]
  }
 ],
 "metadata": {
  "kernelspec": {
   "display_name": "Python 3 (ipykernel)",
   "language": "python",
   "name": "python3"
  },
  "language_info": {
   "codemirror_mode": {
    "name": "ipython",
    "version": 3
   },
   "file_extension": ".py",
   "mimetype": "text/x-python",
   "name": "python",
   "nbconvert_exporter": "python",
   "pygments_lexer": "ipython3",
   "version": "3.9.13"
  }
 },
 "nbformat": 4,
 "nbformat_minor": 5
}
